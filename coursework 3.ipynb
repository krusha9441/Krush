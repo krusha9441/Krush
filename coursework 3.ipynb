{
 "cells": [
  {
   "cell_type": "code",
   "execution_count": 3,
   "id": "777ab3ec",
   "metadata": {},
   "outputs": [],
   "source": [
    "import math\n",
    "import yfinance as yf\n",
    "import numpy as np\n",
    "import pandas as pd\n",
    "from sklearn.preprocessing import MinMaxScaler\n",
    "import matplotlib.pyplot as plt\n",
    "import tensorflow as tf\n",
    "from tensorflow import keras\n",
    "from tensorflow.keras import layers"
   ]
  },
  {
   "cell_type": "code",
   "execution_count": 4,
   "id": "64137033",
   "metadata": {
    "scrolled": true
   },
   "outputs": [
    {
     "name": "stdout",
     "output_type": "stream",
     "text": [
      "[*********************100%***********************]  1 of 1 completed\n"
     ]
    },
    {
     "data": {
      "text/html": [
       "<div>\n",
       "<style scoped>\n",
       "    .dataframe tbody tr th:only-of-type {\n",
       "        vertical-align: middle;\n",
       "    }\n",
       "\n",
       "    .dataframe tbody tr th {\n",
       "        vertical-align: top;\n",
       "    }\n",
       "\n",
       "    .dataframe thead th {\n",
       "        text-align: right;\n",
       "    }\n",
       "</style>\n",
       "<table border=\"1\" class=\"dataframe\">\n",
       "  <thead>\n",
       "    <tr style=\"text-align: right;\">\n",
       "      <th></th>\n",
       "      <th>Open</th>\n",
       "      <th>High</th>\n",
       "      <th>Low</th>\n",
       "      <th>Close</th>\n",
       "      <th>Adj Close</th>\n",
       "      <th>Volume</th>\n",
       "    </tr>\n",
       "    <tr>\n",
       "      <th>Date</th>\n",
       "      <th></th>\n",
       "      <th></th>\n",
       "      <th></th>\n",
       "      <th></th>\n",
       "      <th></th>\n",
       "      <th></th>\n",
       "    </tr>\n",
       "  </thead>\n",
       "  <tbody>\n",
       "    <tr>\n",
       "      <th>2016-01-04</th>\n",
       "      <td>25.652500</td>\n",
       "      <td>26.342501</td>\n",
       "      <td>25.500000</td>\n",
       "      <td>26.337500</td>\n",
       "      <td>24.111498</td>\n",
       "      <td>270597600</td>\n",
       "    </tr>\n",
       "    <tr>\n",
       "      <th>2016-01-05</th>\n",
       "      <td>26.437500</td>\n",
       "      <td>26.462500</td>\n",
       "      <td>25.602501</td>\n",
       "      <td>25.677500</td>\n",
       "      <td>23.507273</td>\n",
       "      <td>223164000</td>\n",
       "    </tr>\n",
       "    <tr>\n",
       "      <th>2016-01-06</th>\n",
       "      <td>25.139999</td>\n",
       "      <td>25.592501</td>\n",
       "      <td>24.967501</td>\n",
       "      <td>25.174999</td>\n",
       "      <td>23.047251</td>\n",
       "      <td>273829600</td>\n",
       "    </tr>\n",
       "    <tr>\n",
       "      <th>2016-01-07</th>\n",
       "      <td>24.670000</td>\n",
       "      <td>25.032499</td>\n",
       "      <td>24.107500</td>\n",
       "      <td>24.112499</td>\n",
       "      <td>22.074556</td>\n",
       "      <td>324377600</td>\n",
       "    </tr>\n",
       "    <tr>\n",
       "      <th>2016-01-08</th>\n",
       "      <td>24.637501</td>\n",
       "      <td>24.777500</td>\n",
       "      <td>24.190001</td>\n",
       "      <td>24.240000</td>\n",
       "      <td>22.191273</td>\n",
       "      <td>283192000</td>\n",
       "    </tr>\n",
       "  </tbody>\n",
       "</table>\n",
       "</div>"
      ],
      "text/plain": [
       "                 Open       High        Low      Close  Adj Close     Volume\n",
       "Date                                                                        \n",
       "2016-01-04  25.652500  26.342501  25.500000  26.337500  24.111498  270597600\n",
       "2016-01-05  26.437500  26.462500  25.602501  25.677500  23.507273  223164000\n",
       "2016-01-06  25.139999  25.592501  24.967501  25.174999  23.047251  273829600\n",
       "2016-01-07  24.670000  25.032499  24.107500  24.112499  22.074556  324377600\n",
       "2016-01-08  24.637501  24.777500  24.190001  24.240000  22.191273  283192000"
      ]
     },
     "execution_count": 4,
     "metadata": {},
     "output_type": "execute_result"
    }
   ],
   "source": [
    "data=yf.download('AAPL',start='2016-01-01',end='2021-10-01')\n",
    "data.head()"
   ]
  },
  {
   "cell_type": "code",
   "execution_count": 32,
   "id": "a693b1e1",
   "metadata": {},
   "outputs": [
    {
     "data": {
      "text/html": [
       "<div>\n",
       "<style scoped>\n",
       "    .dataframe tbody tr th:only-of-type {\n",
       "        vertical-align: middle;\n",
       "    }\n",
       "\n",
       "    .dataframe tbody tr th {\n",
       "        vertical-align: top;\n",
       "    }\n",
       "\n",
       "    .dataframe thead th {\n",
       "        text-align: right;\n",
       "    }\n",
       "</style>\n",
       "<table border=\"1\" class=\"dataframe\">\n",
       "  <thead>\n",
       "    <tr style=\"text-align: right;\">\n",
       "      <th></th>\n",
       "      <th>Open</th>\n",
       "      <th>High</th>\n",
       "      <th>Low</th>\n",
       "      <th>Close</th>\n",
       "      <th>Adj Close</th>\n",
       "      <th>Volume</th>\n",
       "    </tr>\n",
       "    <tr>\n",
       "      <th>Date</th>\n",
       "      <th></th>\n",
       "      <th></th>\n",
       "      <th></th>\n",
       "      <th></th>\n",
       "      <th></th>\n",
       "      <th></th>\n",
       "    </tr>\n",
       "  </thead>\n",
       "  <tbody>\n",
       "    <tr>\n",
       "      <th>2021-09-24</th>\n",
       "      <td>145.660004</td>\n",
       "      <td>147.470001</td>\n",
       "      <td>145.559998</td>\n",
       "      <td>146.919998</td>\n",
       "      <td>145.859360</td>\n",
       "      <td>53477900</td>\n",
       "    </tr>\n",
       "    <tr>\n",
       "      <th>2021-09-27</th>\n",
       "      <td>145.470001</td>\n",
       "      <td>145.960007</td>\n",
       "      <td>143.820007</td>\n",
       "      <td>145.369995</td>\n",
       "      <td>144.320541</td>\n",
       "      <td>74150700</td>\n",
       "    </tr>\n",
       "    <tr>\n",
       "      <th>2021-09-28</th>\n",
       "      <td>143.250000</td>\n",
       "      <td>144.750000</td>\n",
       "      <td>141.690002</td>\n",
       "      <td>141.910004</td>\n",
       "      <td>140.885529</td>\n",
       "      <td>108972300</td>\n",
       "    </tr>\n",
       "    <tr>\n",
       "      <th>2021-09-29</th>\n",
       "      <td>142.470001</td>\n",
       "      <td>144.449997</td>\n",
       "      <td>142.029999</td>\n",
       "      <td>142.830002</td>\n",
       "      <td>141.798874</td>\n",
       "      <td>74602000</td>\n",
       "    </tr>\n",
       "    <tr>\n",
       "      <th>2021-09-30</th>\n",
       "      <td>143.660004</td>\n",
       "      <td>144.380005</td>\n",
       "      <td>141.279999</td>\n",
       "      <td>141.500000</td>\n",
       "      <td>140.478485</td>\n",
       "      <td>89056700</td>\n",
       "    </tr>\n",
       "  </tbody>\n",
       "</table>\n",
       "</div>"
      ],
      "text/plain": [
       "                  Open        High         Low       Close   Adj Close  \\\n",
       "Date                                                                     \n",
       "2021-09-24  145.660004  147.470001  145.559998  146.919998  145.859360   \n",
       "2021-09-27  145.470001  145.960007  143.820007  145.369995  144.320541   \n",
       "2021-09-28  143.250000  144.750000  141.690002  141.910004  140.885529   \n",
       "2021-09-29  142.470001  144.449997  142.029999  142.830002  141.798874   \n",
       "2021-09-30  143.660004  144.380005  141.279999  141.500000  140.478485   \n",
       "\n",
       "               Volume  \n",
       "Date                   \n",
       "2021-09-24   53477900  \n",
       "2021-09-27   74150700  \n",
       "2021-09-28  108972300  \n",
       "2021-09-29   74602000  \n",
       "2021-09-30   89056700  "
      ]
     },
     "execution_count": 32,
     "metadata": {},
     "output_type": "execute_result"
    }
   ],
   "source": [
    "data.tail()"
   ]
  },
  {
   "cell_type": "code",
   "execution_count": 6,
   "id": "f68a1123",
   "metadata": {},
   "outputs": [
    {
     "data": {
      "text/plain": [
       "[<matplotlib.lines.Line2D at 0x1d4fa0e1f48>]"
      ]
     },
     "execution_count": 6,
     "metadata": {},
     "output_type": "execute_result"
    },
    {
     "data": {
      "image/png": "[encoded data removed]",
      "text/plain": [
       "<Figure size 640x480 with 1 Axes>"
      ]
     },
     "metadata": {},
     "output_type": "display_data"
    }
   ],
   "source": [
    "plt.plot(data['Close'])"
   ]
  },
  {
   "cell_type": "code",
   "execution_count": 15,
   "id": "d19ca92c",
   "metadata": {},
   "outputs": [
    {
     "name": "stdout",
     "output_type": "stream",
     "text": [
      "(1098, 60)\n"
     ]
    }
   ],
   "source": [
    "closingprice=data['Close']\n",
    "values= closingprice.values\n",
    "train_data_len=math.ceil(len(values)*.8)\n",
    "scaler=MinMaxScaler(feature_range=(0,1))\n",
    "scaled_data=scaler.fit_transform(values.reshape(-1,1))\n",
    "train_data=scaled_data[0: train_data_len,:]\n",
    "\n",
    "\n",
    "x_train=[]\n",
    "y_train=[]\n",
    "\n",
    "for i in range(60,len(train_data)):\n",
    "    x_train.append(train_data[i-60:i,0])\n",
    "    y_train.append(train_data[i,0])\n",
    "    \n",
    "x_train,y_train=np.array(x_train),np.array(y_train)\n",
    "print(x_train.shape)\n",
    "x_train=np.reshape(x_train,(x_train.shape[0],x_train.shape[1],1))"
   ]
  },
  {
   "cell_type": "code",
   "execution_count": 16,
   "id": "69b4637f",
   "metadata": {},
   "outputs": [
    {
     "data": {
      "text/plain": [
       "(1098, 60, 1)"
      ]
     },
     "execution_count": 16,
     "metadata": {},
     "output_type": "execute_result"
    }
   ],
   "source": [
    "x_train.shape"
   ]
  },
  {
   "cell_type": "code",
   "execution_count": 17,
   "id": "d2b182e7",
   "metadata": {},
   "outputs": [],
   "source": [
    "test_data=scaled_data[train_data_len-60:,:]"
   ]
  },
  {
   "cell_type": "code",
   "execution_count": 19,
   "id": "a24e6f82",
   "metadata": {},
   "outputs": [],
   "source": [
    "x_test=[]\n",
    "y_test=values[train_data_len:]\n",
    "for i in range(60,len(test_data)):\n",
    "    x_test.append(test_data[i-60:i,0])\n",
    "    \n",
    "x_test=np.array(x_test)\n",
    "x_test=np.reshape(x_test,(x_test.shape[0],x_test.shape[1],1))"
   ]
  },
  {
   "cell_type": "code",
   "execution_count": 20,
   "id": "f8903d3d",
   "metadata": {},
   "outputs": [],
   "source": [
    "from keras.models import Sequential\n",
    "from keras.layers import Dense, Dropout, LSTM, Bidirectional"
   ]
  },
  {
   "cell_type": "code",
   "execution_count": 24,
   "id": "e678db22",
   "metadata": {},
   "outputs": [
    {
     "name": "stdout",
     "output_type": "stream",
     "text": [
      "Model: \"sequential_3\"\n",
      "_________________________________________________________________\n",
      " Layer (type)                Output Shape              Param #   \n",
      "=================================================================\n",
      " lstm (LSTM)                 (None, 60, 100)           40800     \n",
      "                                                                 \n",
      " lstm_1 (LSTM)               (None, 100)               80400     \n",
      "                                                                 \n",
      " dense (Dense)               (None, 25)                2525      \n",
      "                                                                 \n",
      " dense_1 (Dense)             (None, 1)                 26        \n",
      "                                                                 \n",
      "=================================================================\n",
      "Total params: 123,751\n",
      "Trainable params: 123,751\n",
      "Non-trainable params: 0\n",
      "_________________________________________________________________\n"
     ]
    }
   ],
   "source": [
    "model=Sequential()\n",
    "model.add(LSTM(100,return_sequences=True,input_shape=(x_train.shape[1],1)))\n",
    "model.add(LSTM(100,return_sequences=False))\n",
    "model.add(Dense(25))\n",
    "model.add(Dense(1))\n",
    "model.summary()"
   ]
  },
  {
   "cell_type": "code",
   "execution_count": 25,
   "id": "625d674b",
   "metadata": {},
   "outputs": [
    {
     "name": "stdout",
     "output_type": "stream",
     "text": [
      "Epoch 1/10\n",
      "55/55 [==============================] - 8s 39ms/step - loss: 0.0039\n",
      "Epoch 2/10\n",
      "55/55 [==============================] - 2s 38ms/step - loss: 2.5278e-04\n",
      "Epoch 3/10\n",
      "55/55 [==============================] - 2s 38ms/step - loss: 2.3977e-04\n",
      "Epoch 4/10\n",
      "55/55 [==============================] - 2s 38ms/step - loss: 2.1276e-04\n",
      "Epoch 5/10\n",
      "55/55 [==============================] - 2s 39ms/step - loss: 2.0646e-04\n",
      "Epoch 6/10\n",
      "55/55 [==============================] - 2s 39ms/step - loss: 2.4567e-04\n",
      "Epoch 7/10\n",
      "55/55 [==============================] - 2s 38ms/step - loss: 1.8797e-04\n",
      "Epoch 8/10\n",
      "55/55 [==============================] - 2s 40ms/step - loss: 2.0765e-04\n",
      "Epoch 9/10\n",
      "55/55 [==============================] - 2s 38ms/step - loss: 2.2540e-04\n",
      "Epoch 10/10\n",
      "55/55 [==============================] - 3s 59ms/step - loss: 1.6815e-04\n"
     ]
    },
    {
     "data": {
      "text/plain": [
       "<keras.callbacks.History at 0x1d4fc015fc8>"
      ]
     },
     "execution_count": 25,
     "metadata": {},
     "output_type": "execute_result"
    }
   ],
   "source": [
    "model.compile(optimizer='adam',loss='mean_squared_error')\n",
    "model.fit(x_train,y_train,batch_size=20,epochs=10)"
   ]
  },
  {
   "cell_type": "code",
   "execution_count": 28,
   "id": "7a023596",
   "metadata": {},
   "outputs": [
    {
     "name": "stdout",
     "output_type": "stream",
     "text": [
      "10/10 [==============================] - 0s 13ms/step\n",
      "0.40821624544665064\n"
     ]
    }
   ],
   "source": [
    "pred=model.predict(x_test)\n",
    "prediction=scaler.inverse_transform(pred)\n",
    "rmse=np.sqrt(pow(np.mean(prediction- y_test),2))\n",
    "print(rmse)"
   ]
  },
  {
   "cell_type": "code",
   "execution_count": 33,
   "id": "66874ee6",
   "metadata": {},
   "outputs": [
    {
     "name": "stderr",
     "output_type": "stream",
     "text": [
      "C:\\Users\\indra\\anaconda3\\envs\\tensorflow\\lib\\site-packages\\ipykernel_launcher.py:4: SettingWithCopyWarning: \n",
      "A value is trying to be set on a copy of a slice from a DataFrame.\n",
      "Try using .loc[row_indexer,col_indexer] = value instead\n",
      "\n",
      "See the caveats in the documentation: https://pandas.pydata.org/pandas-docs/stable/user_guide/indexing.html#returning-a-view-versus-a-copy\n",
      "  after removing the cwd from sys.path.\n"
     ]
    },
    {
     "data": {
      "image/png": "[encoded data removed]",
      "text/plain": [
       "<Figure size 640x480 with 1 Axes>"
      ]
     },
     "metadata": {},
     "output_type": "display_data"
    }
   ],
   "source": [
    "vizdata=data.filter(['Close'])\n",
    "train=data[:train_data_len]\n",
    "valid=data[train_data_len:]\n",
    "valid['Prediction']=prediction\n",
    "\n",
    "\n",
    "plt.plot(train)\n",
    "#plt.plot(valid['Close'])\n",
    "plt.show()"
   ]
  },
  {
   "cell_type": "code",
   "execution_count": 35,
   "id": "6dc098f9",
   "metadata": {},
   "outputs": [
    {
     "data": {
      "text/html": [
       "<div>\n",
       "<style scoped>\n",
       "    .dataframe tbody tr th:only-of-type {\n",
       "        vertical-align: middle;\n",
       "    }\n",
       "\n",
       "    .dataframe tbody tr th {\n",
       "        vertical-align: top;\n",
       "    }\n",
       "\n",
       "    .dataframe thead th {\n",
       "        text-align: right;\n",
       "    }\n",
       "</style>\n",
       "<table border=\"1\" class=\"dataframe\">\n",
       "  <thead>\n",
       "    <tr style=\"text-align: right;\">\n",
       "      <th></th>\n",
       "      <th>Open</th>\n",
       "      <th>High</th>\n",
       "      <th>Low</th>\n",
       "      <th>Close</th>\n",
       "      <th>Adj Close</th>\n",
       "      <th>Volume</th>\n",
       "    </tr>\n",
       "    <tr>\n",
       "      <th>Date</th>\n",
       "      <th></th>\n",
       "      <th></th>\n",
       "      <th></th>\n",
       "      <th></th>\n",
       "      <th></th>\n",
       "      <th></th>\n",
       "    </tr>\n",
       "  </thead>\n",
       "  <tbody>\n",
       "    <tr>\n",
       "      <th>2016-01-04</th>\n",
       "      <td>25.652500</td>\n",
       "      <td>26.342501</td>\n",
       "      <td>25.500000</td>\n",
       "      <td>26.337500</td>\n",
       "      <td>24.111498</td>\n",
       "      <td>270597600</td>\n",
       "    </tr>\n",
       "    <tr>\n",
       "      <th>2016-01-05</th>\n",
       "      <td>26.437500</td>\n",
       "      <td>26.462500</td>\n",
       "      <td>25.602501</td>\n",
       "      <td>25.677500</td>\n",
       "      <td>23.507273</td>\n",
       "      <td>223164000</td>\n",
       "    </tr>\n",
       "    <tr>\n",
       "      <th>2016-01-06</th>\n",
       "      <td>25.139999</td>\n",
       "      <td>25.592501</td>\n",
       "      <td>24.967501</td>\n",
       "      <td>25.174999</td>\n",
       "      <td>23.047251</td>\n",
       "      <td>273829600</td>\n",
       "    </tr>\n",
       "    <tr>\n",
       "      <th>2016-01-07</th>\n",
       "      <td>24.670000</td>\n",
       "      <td>25.032499</td>\n",
       "      <td>24.107500</td>\n",
       "      <td>24.112499</td>\n",
       "      <td>22.074556</td>\n",
       "      <td>324377600</td>\n",
       "    </tr>\n",
       "    <tr>\n",
       "      <th>2016-01-08</th>\n",
       "      <td>24.637501</td>\n",
       "      <td>24.777500</td>\n",
       "      <td>24.190001</td>\n",
       "      <td>24.240000</td>\n",
       "      <td>22.191273</td>\n",
       "      <td>283192000</td>\n",
       "    </tr>\n",
       "    <tr>\n",
       "      <th>...</th>\n",
       "      <td>...</td>\n",
       "      <td>...</td>\n",
       "      <td>...</td>\n",
       "      <td>...</td>\n",
       "      <td>...</td>\n",
       "      <td>...</td>\n",
       "    </tr>\n",
       "    <tr>\n",
       "      <th>2021-09-24</th>\n",
       "      <td>145.660004</td>\n",
       "      <td>147.470001</td>\n",
       "      <td>145.559998</td>\n",
       "      <td>146.919998</td>\n",
       "      <td>145.859360</td>\n",
       "      <td>53477900</td>\n",
       "    </tr>\n",
       "    <tr>\n",
       "      <th>2021-09-27</th>\n",
       "      <td>145.470001</td>\n",
       "      <td>145.960007</td>\n",
       "      <td>143.820007</td>\n",
       "      <td>145.369995</td>\n",
       "      <td>144.320541</td>\n",
       "      <td>74150700</td>\n",
       "    </tr>\n",
       "    <tr>\n",
       "      <th>2021-09-28</th>\n",
       "      <td>143.250000</td>\n",
       "      <td>144.750000</td>\n",
       "      <td>141.690002</td>\n",
       "      <td>141.910004</td>\n",
       "      <td>140.885529</td>\n",
       "      <td>108972300</td>\n",
       "    </tr>\n",
       "    <tr>\n",
       "      <th>2021-09-29</th>\n",
       "      <td>142.470001</td>\n",
       "      <td>144.449997</td>\n",
       "      <td>142.029999</td>\n",
       "      <td>142.830002</td>\n",
       "      <td>141.798874</td>\n",
       "      <td>74602000</td>\n",
       "    </tr>\n",
       "    <tr>\n",
       "      <th>2021-09-30</th>\n",
       "      <td>143.660004</td>\n",
       "      <td>144.380005</td>\n",
       "      <td>141.279999</td>\n",
       "      <td>141.500000</td>\n",
       "      <td>140.478485</td>\n",
       "      <td>89056700</td>\n",
       "    </tr>\n",
       "  </tbody>\n",
       "</table>\n",
       "<p>1447 rows × 6 columns</p>\n",
       "</div>"
      ],
      "text/plain": [
       "                  Open        High         Low       Close   Adj Close  \\\n",
       "Date                                                                     \n",
       "2016-01-04   25.652500   26.342501   25.500000   26.337500   24.111498   \n",
       "2016-01-05   26.437500   26.462500   25.602501   25.677500   23.507273   \n",
       "2016-01-06   25.139999   25.592501   24.967501   25.174999   23.047251   \n",
       "2016-01-07   24.670000   25.032499   24.107500   24.112499   22.074556   \n",
       "2016-01-08   24.637501   24.777500   24.190001   24.240000   22.191273   \n",
       "...                ...         ...         ...         ...         ...   \n",
       "2021-09-24  145.660004  147.470001  145.559998  146.919998  145.859360   \n",
       "2021-09-27  145.470001  145.960007  143.820007  145.369995  144.320541   \n",
       "2021-09-28  143.250000  144.750000  141.690002  141.910004  140.885529   \n",
       "2021-09-29  142.470001  144.449997  142.029999  142.830002  141.798874   \n",
       "2021-09-30  143.660004  144.380005  141.279999  141.500000  140.478485   \n",
       "\n",
       "               Volume  \n",
       "Date                   \n",
       "2016-01-04  270597600  \n",
       "2016-01-05  223164000  \n",
       "2016-01-06  273829600  \n",
       "2016-01-07  324377600  \n",
       "2016-01-08  283192000  \n",
       "...               ...  \n",
       "2021-09-24   53477900  \n",
       "2021-09-27   74150700  \n",
       "2021-09-28  108972300  \n",
       "2021-09-29   74602000  \n",
       "2021-09-30   89056700  \n",
       "\n",
       "[1447 rows x 6 columns]"
      ]
     },
     "execution_count": 35,
     "metadata": {},
     "output_type": "execute_result"
    }
   ],
   "source": [
    "data"
   ]
  },
  {
   "cell_type": "code",
   "execution_count": null,
   "id": "2319c3a2",
   "metadata": {},
   "outputs": [],
   "source": []
  }
 ],
 "metadata": {
  "kernelspec": {
   "display_name": "Python 3 (ipykernel)",
   "language": "python",
   "name": "python3"
  },
  "language_info": {
   "codemirror_mode": {
    "name": "ipython",
    "version": 3
   },
   "file_extension": ".py",
   "mimetype": "text/x-python",
   "name": "python",
   "nbconvert_exporter": "python",
   "pygments_lexer": "ipython3",
   "version": "3.7.15"
  }
 },
 "nbformat": 4,
 "nbformat_minor": 5
}
